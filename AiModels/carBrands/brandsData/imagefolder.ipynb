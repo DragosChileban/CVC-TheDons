{
 "cells": [
  {
   "cell_type": "code",
   "execution_count": 1,
   "metadata": {},
   "outputs": [],
   "source": [
    "from torchvision.datasets import ImageFolder\n",
    "import pandas as pd"
   ]
  },
  {
   "cell_type": "code",
   "execution_count": 2,
   "metadata": {},
   "outputs": [],
   "source": [
    "rawData = ImageFolder('image/')"
   ]
  },
  {
   "cell_type": "code",
   "execution_count": 3,
   "metadata": {},
   "outputs": [],
   "source": [
    "metadata = rawData.imgs\n",
    "catnames = rawData.class_to_idx"
   ]
  },
  {
   "cell_type": "code",
   "execution_count": 4,
   "metadata": {},
   "outputs": [
    {
     "data": {
      "text/plain": [
       "['AUDI-A4',\n",
       " 'BMW-SERIA3',\n",
       " 'BMW-X5',\n",
       " 'CHEVROLETE-CORVETTE',\n",
       " 'FORD-MUSTANG',\n",
       " 'HONDA-CIVIC',\n",
       " 'MAZDA-3',\n",
       " 'MERCEDES-BENZ-SKLASS',\n",
       " 'MINI-COOPER',\n",
       " 'TOYOTA-PRIUS',\n",
       " 'VOLKSWAGEN-BEETLE',\n",
       " 'VOLKSWAGEN-GOLF',\n",
       " 'VOLKSWAGEN-PASSAT']"
      ]
     },
     "execution_count": 4,
     "metadata": {},
     "output_type": "execute_result"
    }
   ],
   "source": [
    "catnames = list(catnames.keys())\n",
    "catnames"
   ]
  },
  {
   "cell_type": "code",
   "execution_count": 6,
   "metadata": {},
   "outputs": [],
   "source": [
    "metadata = [list(i) for i in metadata]"
   ]
  },
  {
   "cell_type": "code",
   "execution_count": 7,
   "metadata": {},
   "outputs": [],
   "source": [
    "for i in metadata:\n",
    "    i[1] = catnames[i[1]]"
   ]
  },
  {
   "cell_type": "code",
   "execution_count": 8,
   "metadata": {},
   "outputs": [
    {
     "data": {
      "text/html": [
       "<div>\n",
       "<style scoped>\n",
       "    .dataframe tbody tr th:only-of-type {\n",
       "        vertical-align: middle;\n",
       "    }\n",
       "\n",
       "    .dataframe tbody tr th {\n",
       "        vertical-align: top;\n",
       "    }\n",
       "\n",
       "    .dataframe thead th {\n",
       "        text-align: right;\n",
       "    }\n",
       "</style>\n",
       "<table border=\"1\" class=\"dataframe\">\n",
       "  <thead>\n",
       "    <tr style=\"text-align: right;\">\n",
       "      <th></th>\n",
       "      <th>image</th>\n",
       "      <th>class</th>\n",
       "    </tr>\n",
       "  </thead>\n",
       "  <tbody>\n",
       "    <tr>\n",
       "      <th>0</th>\n",
       "      <td>image/AUDI-A4\\00000_5BZi5D4fZIF_600x450.jpg</td>\n",
       "      <td>AUDI-A4</td>\n",
       "    </tr>\n",
       "    <tr>\n",
       "      <th>1</th>\n",
       "      <td>image/AUDI-A4\\00000_8H87CDawUtR_600x450.jpg</td>\n",
       "      <td>AUDI-A4</td>\n",
       "    </tr>\n",
       "    <tr>\n",
       "      <th>2</th>\n",
       "      <td>image/AUDI-A4\\00101_8142vXCEP8g_600x450.jpg</td>\n",
       "      <td>AUDI-A4</td>\n",
       "    </tr>\n",
       "    <tr>\n",
       "      <th>3</th>\n",
       "      <td>image/AUDI-A4\\00101_afbu49MCjkq_600x450.jpg</td>\n",
       "      <td>AUDI-A4</td>\n",
       "    </tr>\n",
       "    <tr>\n",
       "      <th>4</th>\n",
       "      <td>image/AUDI-A4\\00101_hhJ3gJXKeMq_600x450.jpg</td>\n",
       "      <td>AUDI-A4</td>\n",
       "    </tr>\n",
       "    <tr>\n",
       "      <th>...</th>\n",
       "      <td>...</td>\n",
       "      <td>...</td>\n",
       "    </tr>\n",
       "    <tr>\n",
       "      <th>6975</th>\n",
       "      <td>image/VOLKSWAGEN-PASSAT\\volkswagen_passat_2013...</td>\n",
       "      <td>VOLKSWAGEN-PASSAT</td>\n",
       "    </tr>\n",
       "    <tr>\n",
       "      <th>6976</th>\n",
       "      <td>image/VOLKSWAGEN-PASSAT\\volkswagen_passat_2013...</td>\n",
       "      <td>VOLKSWAGEN-PASSAT</td>\n",
       "    </tr>\n",
       "    <tr>\n",
       "      <th>6977</th>\n",
       "      <td>image/VOLKSWAGEN-PASSAT\\volkswagen_passat_2013...</td>\n",
       "      <td>VOLKSWAGEN-PASSAT</td>\n",
       "    </tr>\n",
       "    <tr>\n",
       "      <th>6978</th>\n",
       "      <td>image/VOLKSWAGEN-PASSAT\\volkswagen_passat_2013...</td>\n",
       "      <td>VOLKSWAGEN-PASSAT</td>\n",
       "    </tr>\n",
       "    <tr>\n",
       "      <th>6979</th>\n",
       "      <td>image/VOLKSWAGEN-PASSAT\\volkswagen_passat_2014...</td>\n",
       "      <td>VOLKSWAGEN-PASSAT</td>\n",
       "    </tr>\n",
       "  </tbody>\n",
       "</table>\n",
       "<p>6980 rows × 2 columns</p>\n",
       "</div>"
      ],
      "text/plain": [
       "                                                  image              class\n",
       "0           image/AUDI-A4\\00000_5BZi5D4fZIF_600x450.jpg            AUDI-A4\n",
       "1           image/AUDI-A4\\00000_8H87CDawUtR_600x450.jpg            AUDI-A4\n",
       "2           image/AUDI-A4\\00101_8142vXCEP8g_600x450.jpg            AUDI-A4\n",
       "3           image/AUDI-A4\\00101_afbu49MCjkq_600x450.jpg            AUDI-A4\n",
       "4           image/AUDI-A4\\00101_hhJ3gJXKeMq_600x450.jpg            AUDI-A4\n",
       "...                                                 ...                ...\n",
       "6975  image/VOLKSWAGEN-PASSAT\\volkswagen_passat_2013...  VOLKSWAGEN-PASSAT\n",
       "6976  image/VOLKSWAGEN-PASSAT\\volkswagen_passat_2013...  VOLKSWAGEN-PASSAT\n",
       "6977  image/VOLKSWAGEN-PASSAT\\volkswagen_passat_2013...  VOLKSWAGEN-PASSAT\n",
       "6978  image/VOLKSWAGEN-PASSAT\\volkswagen_passat_2013...  VOLKSWAGEN-PASSAT\n",
       "6979  image/VOLKSWAGEN-PASSAT\\volkswagen_passat_2014...  VOLKSWAGEN-PASSAT\n",
       "\n",
       "[6980 rows x 2 columns]"
      ]
     },
     "execution_count": 8,
     "metadata": {},
     "output_type": "execute_result"
    }
   ],
   "source": [
    "data = pd.DataFrame(metadata, columns=['image', 'class'])\n",
    "data"
   ]
  },
  {
   "cell_type": "code",
   "execution_count": 9,
   "metadata": {},
   "outputs": [],
   "source": [
    "data.to_csv('index.csv', index = False)"
   ]
  }
 ],
 "metadata": {
  "kernelspec": {
   "display_name": "Python 3",
   "language": "python",
   "name": "python3"
  },
  "language_info": {
   "codemirror_mode": {
    "name": "ipython",
    "version": 3
   },
   "file_extension": ".py",
   "mimetype": "text/x-python",
   "name": "python",
   "nbconvert_exporter": "python",
   "pygments_lexer": "ipython3",
   "version": "3.8.5"
  }
 },
 "nbformat": 4,
 "nbformat_minor": 4
}
