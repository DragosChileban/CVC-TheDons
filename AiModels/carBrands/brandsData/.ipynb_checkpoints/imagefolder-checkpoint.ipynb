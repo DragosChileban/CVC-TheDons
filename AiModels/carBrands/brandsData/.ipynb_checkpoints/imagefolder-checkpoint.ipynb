{
 "cells": [
  {
   "cell_type": "code",
   "execution_count": 1,
   "metadata": {},
   "outputs": [],
   "source": [
    "from torchvision.datasets import ImageFolder\n",
    "import pandas as pd"
   ]
  },
  {
   "cell_type": "code",
   "execution_count": 2,
   "metadata": {},
   "outputs": [],
   "source": [
    "rawData = ImageFolder('image/')"
   ]
  },
  {
   "cell_type": "code",
   "execution_count": 3,
   "metadata": {},
   "outputs": [
    {
     "data": {
      "text/plain": [
       "{'AUDI-A4': 0,\n",
       " 'BMW-SERIA3': 1,\n",
       " 'BMW-X5': 2,\n",
       " 'CHEVROLETE-CORVETTE': 3,\n",
       " 'FORD-MUSTANG': 4,\n",
       " 'HONDA-CIVIC': 5,\n",
       " 'MAZDA-3': 6,\n",
       " 'MERCEDES-BENZ-SKLASS': 7,\n",
       " 'MINI-COOPER': 8,\n",
       " 'TOYOTA-PRIUS': 9,\n",
       " 'VOLKSWAGEN-BEETLE': 10,\n",
       " 'VOLKSWAGEN-GOLF': 11,\n",
       " 'VOLKSWAGEN-PASSAT': 12}"
      ]
     },
     "execution_count": 3,
     "metadata": {},
     "output_type": "execute_result"
    }
   ],
   "source": [
    "metadata = rawData.imgs\n",
    "catnames = rawData.class_to_idx\n",
    "catnames"
   ]
  },
  {
   "cell_type": "code",
   "execution_count": 4,
   "metadata": {},
   "outputs": [],
   "source": [
    "catnames = list(catnames.keys())"
   ]
  },
  {
   "cell_type": "code",
   "execution_count": 5,
   "metadata": {},
   "outputs": [],
   "source": [
    "metadata = [list(i) for i in metadata]"
   ]
  },
  {
   "cell_type": "code",
   "execution_count": 6,
   "metadata": {},
   "outputs": [],
   "source": [
    "for i in metadata:\n",
    "    i[1] = catnames[i[1]]"
   ]
  },
  {
   "cell_type": "code",
   "execution_count": 9,
   "metadata": {},
   "outputs": [],
   "source": [
    "data = pd.DataFrame(metadata, columns=['image', 'class'])"
   ]
  },
  {
   "cell_type": "code",
   "execution_count": 11,
   "metadata": {},
   "outputs": [],
   "source": [
    "data.to_csv('index.csv', index = False)"
   ]
  }
 ],
 "metadata": {
  "kernelspec": {
   "display_name": "Python 3",
   "language": "python",
   "name": "python3"
  },
  "language_info": {
   "codemirror_mode": {
    "name": "ipython",
    "version": 3
   },
   "file_extension": ".py",
   "mimetype": "text/x-python",
   "name": "python",
   "nbconvert_exporter": "python",
   "pygments_lexer": "ipython3",
   "version": "3.8.5"
  }
 },
 "nbformat": 4,
 "nbformat_minor": 4
}
