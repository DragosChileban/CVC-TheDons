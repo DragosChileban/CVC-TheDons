{
 "cells": [
  {
   "cell_type": "code",
   "execution_count": 1,
   "metadata": {},
   "outputs": [],
   "source": [
    "import numpy as np"
   ]
  },
  {
   "cell_type": "code",
   "execution_count": 2,
   "metadata": {},
   "outputs": [],
   "source": [
    "damageClasses = np.array(['bumper_dent', 'bumper_scratch', 'crashed', 'door_dent', 'door_scratch', 'glass_shatter', 'head_lamp', 'no_damage', 'tail_lamp'], dtype='<U23')"
   ]
  },
  {
   "cell_type": "code",
   "execution_count": 3,
   "metadata": {},
   "outputs": [],
   "source": [
    "brandsClasses = np.array(['AUDI-A4', 'BMW-SERIA3', 'BMW-X5', 'CHEVROLETE-CORVETTE', 'FORD-MUSTANG', 'HONDA-CIVIC', 'MAZDA-3', 'MERCEDES-BENZ-SKLASS', 'MINI-COOPER', 'TOYOTA-PRIUS', 'VOLKSWAGEN-BEETLE', 'VOLKSWAGEN-GOLF', 'VOLKSWAGEN-PASSAT'], dtype='<U23')"
   ]
  },
  {
   "cell_type": "code",
   "execution_count": 9,
   "metadata": {},
   "outputs": [],
   "source": [
    "np.save(r'C:\\Users\\Andre\\Documents\\CVC-TheDons\\Flask\\resources\\damageClasses.npy', damageClasses)"
   ]
  },
  {
   "cell_type": "code",
   "execution_count": 7,
   "metadata": {},
   "outputs": [],
   "source": [
    "np.save(r'C:\\Users\\Andre\\Documents\\CVC-TheDons\\Flask\\resources\\brandsClasses.npy', brandsClasses)"
   ]
  },
  {
   "cell_type": "code",
   "execution_count": 6,
   "metadata": {},
   "outputs": [
    {
     "data": {
      "text/plain": [
       "array(['bumper_dent', 'bumper_scratch', 'crashed', 'door_dent',\n",
       "       'door_scratch', 'glass_shatter', 'head_lamp', 'no_damage',\n",
       "       'tail_lamp'], dtype='<U23')"
      ]
     },
     "execution_count": 6,
     "metadata": {},
     "output_type": "execute_result"
    }
   ],
   "source": [
    "df"
   ]
  },
  {
   "cell_type": "code",
   "execution_count": null,
   "metadata": {},
   "outputs": [],
   "source": []
  }
 ],
 "metadata": {
  "kernelspec": {
   "display_name": "Python 3",
   "language": "python",
   "name": "python3"
  },
  "language_info": {
   "codemirror_mode": {
    "name": "ipython",
    "version": 3
   },
   "file_extension": ".py",
   "mimetype": "text/x-python",
   "name": "python",
   "nbconvert_exporter": "python",
   "pygments_lexer": "ipython3",
   "version": "3.8.5"
  }
 },
 "nbformat": 4,
 "nbformat_minor": 4
}
