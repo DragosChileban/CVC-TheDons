{
 "cells": [
  {
   "cell_type": "code",
   "execution_count": 5,
   "metadata": {},
   "outputs": [],
   "source": [
    "import numpy as np"
   ]
  },
  {
   "cell_type": "code",
   "execution_count": 9,
   "metadata": {},
   "outputs": [],
   "source": [
    "classes = np.load(r'C:\\Users\\Andre\\Documents\\CVC_Project\\Flask\\resources\\classes.npy')"
   ]
  },
  {
   "cell_type": "code",
   "execution_count": 10,
   "metadata": {},
   "outputs": [
    {
     "data": {
      "text/plain": [
       "array(['apple_pie', 'baby_back_ribs', 'baklava', 'beignets', 'bruschetta',\n",
       "       'caesar_salad', 'caprese_salad', 'carrot_cake', 'cheesecake',\n",
       "       'cheese_plate', 'chicken_wings', 'chocolate_cake',\n",
       "       'chocolate_mousse', 'club_sandwich', 'creme_brulee', 'cup_cakes',\n",
       "       'deviled_eggs', 'donuts', 'eggs_benedict', 'falafel',\n",
       "       'fish_and_chips', 'french_fries', 'french_toast', 'fried_calamari',\n",
       "       'greek_salad', 'grilled_cheese_sandwich', 'grilled_salmon',\n",
       "       'hamburger', 'hot_and_sour_soup', 'hot_dog', 'hummus', 'ice_cream',\n",
       "       'lasagna', 'macaroni_and_cheese', 'macarons', 'mussels', 'nachos',\n",
       "       'omelette', 'onion_rings', 'pad_thai', 'pancakes', 'pizza',\n",
       "       'pork_chop', 'ravioli', 'risotto', 'spaghetti_bolognese',\n",
       "       'spaghetti_carbonara', 'steak', 'sushi', 'tacos', 'tiramisu',\n",
       "       'waffles'], dtype='<U23')"
      ]
     },
     "execution_count": 10,
     "metadata": {},
     "output_type": "execute_result"
    }
   ],
   "source": [
    "classes = np.array()"
   ]
  },
  {
   "cell_type": "code",
   "execution_count": 12,
   "metadata": {},
   "outputs": [],
   "source": [
    "classes = np.array(['crashed', 'head_lamp', 'door_scratch', 'no_damage',\n",
    "       'glass_shatter', 'tail_lamp', 'bumper_dent', 'door_dent',\n",
    "       'bumper_scratch'], dtype=object)"
   ]
  },
  {
   "cell_type": "code",
   "execution_count": 13,
   "metadata": {},
   "outputs": [
    {
     "data": {
      "text/plain": [
       "array(['crashed', 'head_lamp', 'door_scratch', 'no_damage',\n",
       "       'glass_shatter', 'tail_lamp', 'bumper_dent', 'door_dent',\n",
       "       'bumper_scratch'], dtype=object)"
      ]
     },
     "execution_count": 13,
     "metadata": {},
     "output_type": "execute_result"
    }
   ],
   "source": [
    "classes"
   ]
  },
  {
   "cell_type": "code",
   "execution_count": 14,
   "metadata": {},
   "outputs": [],
   "source": [
    "np.save('classes.npy', classes)"
   ]
  },
  {
   "cell_type": "code",
   "execution_count": null,
   "metadata": {},
   "outputs": [],
   "source": []
  }
 ],
 "metadata": {
  "kernelspec": {
   "display_name": "Python 3",
   "language": "python",
   "name": "python3"
  },
  "language_info": {
   "codemirror_mode": {
    "name": "ipython",
    "version": 3
   },
   "file_extension": ".py",
   "mimetype": "text/x-python",
   "name": "python",
   "nbconvert_exporter": "python",
   "pygments_lexer": "ipython3",
   "version": "3.8.5"
  }
 },
 "nbformat": 4,
 "nbformat_minor": 4
}
